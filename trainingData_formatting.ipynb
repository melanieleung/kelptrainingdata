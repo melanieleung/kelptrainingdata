{
 "cells": [
  {
   "cell_type": "markdown",
   "id": "71a0c8a0",
   "metadata": {},
   "source": [
    "# Planet Training Data Formatting Script\n",
    "\n",
    "Use and modify this script to work with reformatting training data classifications used to feed the kelp classification neural network.\n",
    "This script is set up to work with/access files locally stored on your computer (I never figured out how to redirect the current directory to server paths), as opposed to the server which most of the files are usually stored on.\n",
    "\n",
    "To work this way, simply make a copy of the folders with the files that you're working with onto your local desktop, and once you get the final outputs\n",
    "that you're satisfied with, move those back onto the server.\n"
   ]
  },
  {
   "cell_type": "code",
   "execution_count": null,
   "id": "74bf0429",
   "metadata": {},
   "outputs": [],
   "source": ["## Set up Packages ## \n",
    "import os\n",
    "import arcpy\n",
    "from arcpy import management\n",
    "from arcpy import sa"
   ]
  },
  {
   "cell_type": "code",
   "execution_count": null,
   "id": "ab428738",
   "metadata": {},
   "outputs": [],
   "source": ["## Set up your current directory\n",
    "# this method uses arcpy instead of os package, but either could work\n",
    "arcpy.env.workspace = \"C:/Users/mleung/Desktop/trainingData_planet8band/monterey/rerun/finalOutputs\"\n",
    "\n",
    "walk = arcpy.da.Walk(datatype=\"RasterDataset\")\n",
    "\n",
    "for dir_path, dir_names, file_names in walk:\n",
    "    for filename in file_names:\n",
    "        print(os.path.join(dir_path, filename))\n",
    "\n",
    "fileList = arcpy.ListFiles(\"*.tif\")\n",
    "print(fileList)\n"
   ]
  },
  {
   "cell_type": "markdown",
   "id": "6a61974d",
   "metadata": {},
   "source": [
    "## Copy Raster Tool\n",
    "Run the next cell if you are trying to automate the Copy Raster tool, for example, to loop through rasters in a folder that all need to have a NoData value changed."
   ]
  },
  {
   "cell_type": "code",
   "execution_count": null,
   "id": "f7515b5b",
   "metadata": {},
   "outputs": [],
   "source": ["## COPY RASTER ##\n",
    "fileList = arcpy.ListFiles(\"*.tif\")\n",
    "\n",
    "for raster in arcpy.ListFiles(\"*.tif\"):\n",
    "    # get the file name without extension (replaces the %Name% variable from ModelBuilder)\n",
    "    fileName = os.path.splitext(raster)[0]\n",
    "    # define the output file\n",
    "    rastFile = fileName + \"_final.tif\" \n",
    "    # run the copy raster tool\n",
    "    arcpy.management.CopyRaster(raster,\n",
    "                                rastFile,\n",
    "                                '', \n",
    "                                '',\n",
    "                                3,\n",
    "                                'NONE',\n",
    "                                'NONE',\n",
    "                                '8_BIT_UNSIGNED',\n",
    "                                'NONE',\n",
    "                                'NONE', # color map to RGB\n",
    "                                'TIFF',\n",
    "                                'NONE',\n",
    "                                'CURRENT_SLICE',\n",
    "                                'NO_TRANSPOSE')"
   ]
  },
  {
   "cell_type": "markdown",
   "id": "95553381",
   "metadata": {},
   "source": [
    "## Reclassify Tool\n",
    "Run the next cell if you are trying to automate the Reclassify (Spatial analyst) tool. For example, to loop through rasters in a folder that all need to have their classes redefined to different values.\n",
    "\n",
    "Refer to https://pro.arcgis.com/en/pro-app/latest/tool-reference/spatial-analyst/reclassify.htm for code examples for the reclassify() function's parameters "
   ]
  },
  {
   "cell_type": "code",
   "execution_count": null,
   "id": "05872f8a",
   "metadata": {},
   "outputs": [],
   "source": ["## RECLASSIFY ##\n",
    "fileList = arcpy.ListFiles(\"*.tif\")\n",
    "\n",
    "for raster in arcpy.ListFiles(\"*.tif\"):\n",
    "    # get the file name without extension (replaces the %Name% variable from ModelBuilder)\n",
    "    fileName = os.path.splitext(raster)[0]\n",
    "    # define the output file\n",
    "    rastFile = fileName + \"_reclass.tif\" \n",
    "    # run the copy raster tool\n",
    "    arcpy.spatialAnalyst.reclassify(raster,\n",
    "                                \"Value\",\n",
    "                                RemapValue([1,2], [3,2]), #change your remap values here within the square brackets\n",
    "                                )\n",
    "    outReclass.save(rastFile)"
   ]
  }
 ],
 "metadata": {
  "kernelspec": {
   "display_name": "Python 3",
   "language": "python",
   "name": "python3"
  },
  "language_info": {
   "codemirror_mode": {
    "name": "ipython",
    "version": 3
   },
   "file_extension": ".py",
   "mimetype": "text/x-python",
   "name": "python",
   "nbconvert_exporter": "python",
   "pygments_lexer": "ipython3",
   "version": "3.8.8"
  }
 },
 "nbformat": 4,
 "nbformat_minor": 5
}
