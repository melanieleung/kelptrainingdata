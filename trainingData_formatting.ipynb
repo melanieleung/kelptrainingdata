{
 "cells": [
  {
   "cell_type": "markdown",
   "id": "51bde6ce",
   "metadata": {},
   "source": [
    "# Planet Training Data Formatting Script\n",
    "Use and modify this script to work with reformatting training data classifications used to feed the kelp classification neural network. This script is set up to work with/access files locally stored on your computer (I never figured out how to redirect the current directory to server paths), as opposed to the server which most of the files are usually stored on.\n",
    "\n",
    "To work this way, simply make a copy of the folders with the files that you're working with onto your local desktop, and once you get the final outputs that you're satisfied with, move those back onto the server."
   ]
  },
  {
   "cell_type": "code",
   "execution_count": null,
   "id": "cfa3db9d",
   "metadata": {},
   "outputs": [],
   "source": [
    "## Set up Packages ## \n",
    "import os\n",
    "import arcpy\n",
    "from arcpy import management\n",
    "from arcpy import sa"
   ]
  },
  {
   "cell_type": "code",
   "execution_count": null,
   "id": "62453b0e",
   "metadata": {},
   "outputs": [],
   "source": [
    "## Set up your current directory\n",
    "arcpy.env.workspace = r\"C:\\Users\\mleung\\Desktop\\baja_classifications\" #change to proper file path;\n",
    "        #the 'r' in front of the file path is useful when working on Windows because by default, Python only reads forward slashes\n",
    "\n",
    "walk = arcpy.da.Walk(datatype=\"RasterDataset\")\n",
    "\n",
    "for dir_path, dir_names, file_names in walk:\n",
    "    for filename in file_names:\n",
    "        print(os.path.join(dir_path, filename))\n",
    "\n",
    "fileList = arcpy.ListFiles(\"*.tif\")\n",
    "print(fileList)"
   ]
  },
  {
   "cell_type": "markdown",
   "id": "29f20759",
   "metadata": {},
   "source": [
    "## Mosaic to New Raster Tool\n",
    "Run the next cell if you are trying to automate the Mosaic to New Raster tool, for example, to loop through rasters in a folder that all need to be combined with the same raster (like a land mask)"
   ]
  },
  {
   "cell_type": "code",
   "execution_count": null,
   "id": "17806528",
   "metadata": {},
   "outputs": [],
   "source": [
    "## Mosaic to New Raster Tool\n",
    "fileList = arcpy.ListFiles(\"*.tif\")\n",
    "\n",
    "# file path for land mask raster\n",
    "landMask = r\"C:\\Users\\mleung\\Desktop\\SoCal_landMask\\landMask.tif\"\n",
    "\n",
    "# run the mosaic tool\n",
    "for raster in arcpy.ListFiles(\"*.tif\"):\n",
    "    # get the file name without extension (replaces the %Name% variable from ModelBuilder)\n",
    "    fileName = os.path.splitext(raster)[0]\n",
    "    # define the output file\n",
    "    rastFile = fileName + \"_mosaicked.tif\" \n",
    "    arcpy.management.MosaicToNewRaster(input_rasters=[raster, landMask],\n",
    "                                       output_location=r'C:\\Users\\mleung\\Desktop\\SoCal_classifications\\mosaickedClassifications',\n",
    "                                       raster_dataset_name_with_extension=rastFile,\n",
    "                                       coordinate_system_for_the_raster=\"PROJCS[\\\"WGS_1984_UTM_Zone_11N\\\",GEOGCS[\\\"GCS_WGS_1984\\\",DATUM[\\\"D_WGS_1984\\\",SPHEROID[\\\"WGS_1984\\\",6378137.0,298.257223563]],PRIMEM[\\\"Greenwich\\\",0.0],UNIT[\\\"Degree\\\",0.0174532925199433]],PROJECTION[\\\"Transverse_Mercator\\\"],PARAMETER[\\\"False_Easting\\\",500000.0],PARAMETER[\\\"False_Northing\\\",0.0],PARAMETER[\\\"Central_Meridian\\\",-117.0],PARAMETER[\\\"Scale_Factor\\\",0.9996],PARAMETER[\\\"Latitude_Of_Origin\\\",0.0],UNIT[\\\"Meter\\\",1.0]]\", pixel_type=\"8_BIT_UNSIGNED\", cellsize=None, number_of_bands=1, mosaic_method=\"MAXIMUM\", mosaic_colormap_mode=\"FIRST\")[0]"
   ]
  },
  {
   "cell_type": "markdown",
   "id": "221b642f",
   "metadata": {},
   "source": [
    "## Reclassify Tool\n",
    "Run the next 2 cells if you are trying to automate the Reclassify (Spatial analyst) tool. For example, to loop through rasters in a folder that all need to have their classes redefined to different values.\n",
    "\n",
    "Refer to https://pro.arcgis.com/en/pro-app/latest/tool-reference/spatial-analyst/reclassify.htm for code examples for the reclassify() function's parameters"
   ]
  },
  {
   "cell_type": "code",
   "execution_count": null,
   "id": "98cc481e",
   "metadata": {},
   "outputs": [],
   "source": [
    "## Set up your current directory for the things that need to be reclassified\n",
    "arcpy.env.workspace = r'C:\\Users\\mleung\\Desktop\\SoCal_classifications\\mosaickedClassifications'\n",
    "\n",
    "walk = arcpy.da.Walk(datatype=\"RasterDataset\")\n",
    "\n",
    "for dir_path, dir_names, file_names in walk:\n",
    "    for filename in file_names:\n",
    "        print(os.path.join(dir_path, filename))\n",
    "\n",
    "fileList = arcpy.ListFiles(\"*.tif\")\n",
    "print(fileList)"
   ]
  },
  {
   "cell_type": "code",
   "execution_count": null,
   "id": "6b15feb7",
   "metadata": {},
   "outputs": [],
   "source": [
    "## Reclassify Tool\n",
    "fileList = arcpy.ListFiles(\"*.tif\")\n",
    "\n",
    "for raster in arcpy.ListFiles(\"*.tif\"):\n",
    "    # get the file name without extension (replaces the %Name% variable from ModelBuilder)\n",
    "    fileName = os.path.splitext(raster)[0]\n",
    "    # define the output file\n",
    "    rastFile = fileName + \"_reclass.tif\" \n",
    "    # run the reclassify tool\n",
    "    outReclass = arcpy.sa.Reclassify(in_raster = raster,\n",
    "                        reclass_field = \"Value\",\n",
    "                        remap = \"1 3\"\n",
    "                                )\n",
    "    outReclass.save(rastFile)"
   ]
  },
  {
   "cell_type": "markdown",
   "id": "6cb4e68f",
   "metadata": {},
   "source": [
    "## Extract by Mask tool\n",
    "Run the next 2 cells if you are trying to automate the Extract by Mask tool. For example, to loop through rasters in a folder that all need to be clipped by the same extent defined by another raster (inputRaster variable)"
   ]
  },
  {
   "cell_type": "code",
   "execution_count": null,
   "id": "ed6eea12",
   "metadata": {},
   "outputs": [],
   "source": [
    "## Set up your current directory for the things that need to be extracted\n",
    "arcpy.env.workspace = r\"C:\\Users\\mleung\\Desktop\\SoCal_classifications\\reclassifiedClassifications\"\n",
    "\n",
    "walk = arcpy.da.Walk(datatype=\"RasterDataset\")\n",
    "\n",
    "for dir_path, dir_names, file_names in walk:\n",
    "    for filename in file_names:\n",
    "        print(os.path.join(dir_path, filename))\n",
    "\n",
    "fileList = arcpy.ListFiles(\"*.tif\")\n",
    "print(fileList)"
   ]
  },
  {
   "cell_type": "code",
   "execution_count": null,
   "id": "b56161b7",
   "metadata": {},
   "outputs": [],
   "source": [
    "## Extract by mask tool\n",
    "fileList = arcpy.ListFiles(\"*.tif\")\n",
    "\n",
    "# input raster to clip by\n",
    "inputRaster = r\"C:\\Users\\mleung\\Desktop\\20220305_181446_50_2486_3B_AnalyticMS_SR_8b_clip.tif\"\n",
    "\n",
    "# run the extract by mask tool\n",
    "for raster in arcpy.ListFiles(\"*.tif\"):\n",
    "    # get the file name without extension (replaces the %Name% variable from ModelBuilder)\n",
    "    fileName = os.path.splitext(raster)[0]\n",
    "    # define the output file\n",
    "    rastFile = fileName + \"_extracted.tif\" \n",
    "    # run the copy raster tool\n",
    "    outRaster = arcpy.sa.ExtractByMask(raster, \n",
    "                           inputRaster, \n",
    "                           'INSIDE')\n",
    "    outRaster.save(rastFile)"
   ]
  },
  {
   "cell_type": "markdown",
   "id": "776c5c38",
   "metadata": {},
   "source": [
    "## Copy Raster Tool\n",
    "Run the next cell if you are trying to automate the Copy Raster tool, for example, to loop through rasters in a folder that all need to have a NoData value changed."
   ]
  },
  {
   "cell_type": "code",
   "execution_count": null,
   "id": "44c567f0",
   "metadata": {},
   "outputs": [],
   "source": [
    "## COPY RASTER ##\n",
    "arcpy.env.workspace = r\"C:\\Users\\mleung\\Desktop\\SoCal_classifications\\extractedClassifications\"\n",
    "\n",
    "walk = arcpy.da.Walk(datatype=\"RasterDataset\")\n",
    "\n",
    "for dir_path, dir_names, file_names in walk:\n",
    "    for filename in file_names:\n",
    "        print(os.path.join(dir_path, filename))\n",
    "\n",
    "fileList = arcpy.ListFiles(\"*.tif\")\n",
    "print(fileList)\n",
    "\n",
    "for raster in arcpy.ListFiles(\"*.tif\"):\n",
    "    # get the file name without extension (replaces the %Name% variable from ModelBuilder)\n",
    "    fileName = os.path.splitext(raster)[0]\n",
    "    # define the output file\n",
    "    rastFile = fileName + \"_final.tif\" \n",
    "    # run the copy raster tool\n",
    "    arcpy.management.CopyRaster(raster,\n",
    "                                rastFile,\n",
    "                                '', \n",
    "                                '',\n",
    "                                65535,\n",
    "                                'NONE',\n",
    "                                'NONE',\n",
    "                                '',\n",
    "                                'NONE',\n",
    "                                'NONE',\n",
    "                                'TIFF',\n",
    "                                'NONE',\n",
    "                                'CURRENT_SLICE',\n",
    "                                'NO_TRANSPOSE')"
   ]
  }
 ],
 "metadata": {
  "kernelspec": {
   "display_name": "Python 3",
   "language": "python",
   "name": "python3"
  },
  "language_info": {
   "codemirror_mode": {
    "name": "ipython",
    "version": 3
   },
   "file_extension": ".py",
   "mimetype": "text/x-python",
   "name": "python",
   "nbconvert_exporter": "python",
   "pygments_lexer": "ipython3",
   "version": "3.8.8"
  }
 },
 "nbformat": 4,
 "nbformat_minor": 5
}
