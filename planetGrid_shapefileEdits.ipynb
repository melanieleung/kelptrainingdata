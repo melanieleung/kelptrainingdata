{
 "cells": [
  {
   "cell_type": "markdown",
   "id": "7552d852",
   "metadata": {},
   "source": [
    "# Dissolve and Merge Shapefiles \n",
    "\n",
    "This script is used to run the Dissolve tool on several shapefiles in a given folder,\n",
    "and then the merge tool. The output will be a shapefile with only one polygon feature."
   ]
  },
  {
   "cell_type": "code",
   "execution_count": null,
   "id": "5936087e",
   "metadata": {},
   "outputs": [],
   "source": [
    "# load packages\n",
    "import os\n",
    "from os import path\n",
    "import shutil\n",
    "import arcpy\n",
    "from arcpy import management\n",
    "from arcpy import sa"
   ]
  },
  {
   "cell_type": "code",
   "execution_count": null,
   "id": "660dbdc3",
   "metadata": {},
   "outputs": [],
   "source": [
    "# sets current directory through arcpy\n",
    "arcpy.env.workspace = 'C:/Users/mleung/Desktop/planetGrids/temp_noCalGrids_channelIslands'\n",
    "\n",
    "## DISSOLVE ##\n",
    "for grid in arcpy.ListFiles('*.shp'):\n",
    "    # get the file name without extension (replaces the %Name% variable from ModelBuidler)\n",
    "    fileName = os.path.splitext(grid)[0]\n",
    "    # define output file\n",
    "    newGrid = fileName + '_dissolved.shp'\n",
    "    # run dissolve tool\n",
    "    arcpy.management.Dissolve(grid, \n",
    "                              newGrid, \n",
    "                              'GRID', \n",
    "                              '', \n",
    "                              'SINGLE_PART', \n",
    "                              '', \n",
    "                              '')"
   ]
  },
  {
   "cell_type": "code",
   "execution_count": null,
   "id": "24a63f7f",
   "metadata": {},
   "outputs": [],
   "source": [
    "# copies dissolved shapefiles into the dissolvedGrids folder\n",
    "sourceFolder = 'C:/Users/mleung/Desktop/planetGrids/temp_noCalGrids_channelIslands'\n",
    "destinationFolder = 'C:/Users/mleung/Desktop/planetGrids/dissolvedGrids'\n",
    "\n",
    "files = [i for i in os.listdir(sourceFolder) \n",
    "         if i.endswith(\"_dissolved.shp\") \n",
    "         and path.isfile(path.join(sourceFolder, i))]\n",
    "for f in files:\n",
    "    shutil.copy(path.join(sourceFolder, f), destinationFolder)"
   ]
  },
  {
   "cell_type": "code",
   "execution_count": null,
   "id": "14f1874e",
   "metadata": {},
   "outputs": [],
   "source": [
    "# sets current directory through arcpy\n",
    "arcpy.env.workspace = 'C:/Users/mleung/Desktop/planetGrids/dissolvedGrids'\n",
    "\n",
    "## MERGE ##\n",
    "for newGrid in arcpy.ListFiles('*.shp'):\n",
    "    # get the file name without extension (replaces the %Name% variable from ModelBuidler)\n",
    "    fileName = os.path.splitext(newGrid)[0]\n",
    "    # define output file\n",
    "    mergedGrid = fileName + '_merged.shp'\n",
    "    # run merge tool\n",
    "    arcpy.management.Merge(newGrid, \n",
    "                           mergedGrid, \n",
    "                           '', \n",
    "                           '')"
   ]
  }
 ],
 "metadata": {
  "kernelspec": {
   "display_name": "Python 3",
   "language": "python",
   "name": "python3"
  },
  "language_info": {
   "codemirror_mode": {
    "name": "ipython",
    "version": 3
   },
   "file_extension": ".py",
   "mimetype": "text/x-python",
   "name": "python",
   "nbconvert_exporter": "python",
   "pygments_lexer": "ipython3",
   "version": "3.8.8"
  }
 },
 "nbformat": 4,
 "nbformat_minor": 5
}
